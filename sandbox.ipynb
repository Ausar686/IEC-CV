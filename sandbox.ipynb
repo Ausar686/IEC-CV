{
 "cells": [
  {
   "cell_type": "code",
   "execution_count": 1,
   "id": "f14f62f9",
   "metadata": {},
   "outputs": [],
   "source": [
    "from datetime import datetime\n",
    "import time\n",
    "import json\n",
    "\n",
    "import hashlib\n",
    "import cv2\n",
    "\n",
    "from SessionClass import Session"
   ]
  },
  {
   "cell_type": "code",
   "execution_count": 2,
   "id": "efa7f92c",
   "metadata": {},
   "outputs": [],
   "source": [
    "session = Session(\n",
    "    video_path='test.mp4',\n",
    "    model='model.pt',\n",
    "    route_id=\"304A\",\n",
    "    bus_id=\"081433\"\n",
    ")"
   ]
  },
  {
   "cell_type": "code",
   "execution_count": 3,
   "id": "88f53b6d",
   "metadata": {},
   "outputs": [],
   "source": [
    "cnt = 0\n",
    "while True:\n",
    "    cnt += 1\n",
    "    img = session.read_video()\n",
    "    if img is None:\n",
    "        break\n",
    "\n",
    "    results = session.model(img, stream = True)\n",
    "    cv2.imshow(\"Img\", img)\n",
    "    k = cv2.waitKey(1)\n",
    "    if k == ord(\"q\"):break\n",
    "\n",
    "#     if cnt >= 400: #250\n",
    "#         break\n",
    "#     if results:\n",
    "#         break\n",
    "cv2.destroyAllWindows()"
   ]
  },
  {
   "cell_type": "code",
   "execution_count": 4,
   "id": "33552a91",
   "metadata": {},
   "outputs": [],
   "source": [
    "cv2.imshow(\"Img\", img)\n",
    "cv2.waitKey(0)\n",
    "cv2.destroyAllWindows()"
   ]
  },
  {
   "cell_type": "code",
   "execution_count": 5,
   "id": "cc38cbe0",
   "metadata": {},
   "outputs": [
    {
     "data": {
      "text/plain": [
       "1632"
      ]
     },
     "execution_count": 5,
     "metadata": {},
     "output_type": "execute_result"
    }
   ],
   "source": [
    "cnt"
   ]
  },
  {
   "cell_type": "code",
   "execution_count": 6,
   "id": "f57dd6fc",
   "metadata": {},
   "outputs": [
    {
     "name": "stderr",
     "output_type": "stream",
     "text": [
      "\n",
      "0: 640x640 2 Passengers, 64.8ms\n",
      "Speed: 5.0ms preprocess, 64.8ms inference, 13.8ms postprocess per image at shape (1, 3, 640, 640)\n"
     ]
    },
    {
     "data": {
      "text/plain": [
       "1"
      ]
     },
     "execution_count": 6,
     "metadata": {},
     "output_type": "execute_result"
    }
   ],
   "source": [
    "lst = []\n",
    "for r in results:\n",
    "    lst.append(r)\n",
    "len(lst)"
   ]
  },
  {
   "cell_type": "code",
   "execution_count": 7,
   "id": "70ea2c61",
   "metadata": {},
   "outputs": [
    {
     "data": {
      "text/plain": [
       "ultralytics.engine.results.Results object with attributes:\n",
       "\n",
       "boxes: ultralytics.engine.results.Boxes object\n",
       "keypoints: None\n",
       "masks: None\n",
       "names: {0: 'Passenger'}\n",
       "orig_img: array([[[88, 72, 62],\n",
       "        [88, 72, 62],\n",
       "        [88, 72, 62],\n",
       "        ...,\n",
       "        [31, 25, 20],\n",
       "        [35, 29, 24],\n",
       "        [28, 23, 17]],\n",
       "\n",
       "       [[88, 72, 62],\n",
       "        [88, 72, 62],\n",
       "        [88, 72, 62],\n",
       "        ...,\n",
       "        [29, 23, 18],\n",
       "        [32, 26, 21],\n",
       "        [29, 23, 18]],\n",
       "\n",
       "       [[88, 72, 62],\n",
       "        [88, 72, 62],\n",
       "        [88, 72, 62],\n",
       "        ...,\n",
       "        [36, 30, 25],\n",
       "        [17, 11,  6],\n",
       "        [49, 43, 38]],\n",
       "\n",
       "       ...,\n",
       "\n",
       "       [[20, 10, 12],\n",
       "        [13,  3,  5],\n",
       "        [20, 10, 12],\n",
       "        ...,\n",
       "        [45, 30, 17],\n",
       "        [56, 41, 28],\n",
       "        [54, 39, 26]],\n",
       "\n",
       "       [[19,  9, 11],\n",
       "        [19,  9, 11],\n",
       "        [21, 11, 13],\n",
       "        ...,\n",
       "        [46, 31, 18],\n",
       "        [55, 40, 27],\n",
       "        [52, 37, 24]],\n",
       "\n",
       "       [[56, 46, 48],\n",
       "        [31, 21, 23],\n",
       "        [27, 17, 19],\n",
       "        ...,\n",
       "        [45, 30, 17],\n",
       "        [45, 30, 17],\n",
       "        [50, 35, 22]]], dtype=uint8)\n",
       "orig_shape: (640, 640)\n",
       "path: 'image0.jpg'\n",
       "probs: None\n",
       "save_dir: None\n",
       "speed: {'preprocess': 5.022764205932617, 'inference': 64.78357315063477, 'postprocess': 13.790130615234375}"
      ]
     },
     "execution_count": 7,
     "metadata": {},
     "output_type": "execute_result"
    }
   ],
   "source": [
    "lst[0]"
   ]
  },
  {
   "cell_type": "code",
   "execution_count": 8,
   "id": "edce7bc0",
   "metadata": {},
   "outputs": [
    {
     "name": "stderr",
     "output_type": "stream",
     "text": [
      "WARNING  'Boxes.boxes' is deprecated. Use 'Boxes.data' instead.\n"
     ]
    },
    {
     "data": {
      "text/plain": [
       "ultralytics.engine.results.Boxes object with attributes:\n",
       "\n",
       "boxes: tensor([[ 31.0373,  44.5269, 220.8039, 340.8405,   0.8388,   0.0000],\n",
       "        [332.9084,   0.0000, 487.6768, 181.2473,   0.8277,   0.0000]], device='cuda:0')\n",
       "cls: tensor([0., 0.], device='cuda:0')\n",
       "conf: tensor([0.8388, 0.8277], device='cuda:0')\n",
       "data: tensor([[ 31.0373,  44.5269, 220.8039, 340.8405,   0.8388,   0.0000],\n",
       "        [332.9084,   0.0000, 487.6768, 181.2473,   0.8277,   0.0000]], device='cuda:0')\n",
       "id: None\n",
       "is_track: False\n",
       "orig_shape: (640, 640)\n",
       "shape: torch.Size([2, 6])\n",
       "xywh: tensor([[125.9206, 192.6837, 189.7666, 296.3136],\n",
       "        [410.2926,  90.6237, 154.7684, 181.2473]], device='cuda:0')\n",
       "xywhn: tensor([[0.1968, 0.3011, 0.2965, 0.4630],\n",
       "        [0.6411, 0.1416, 0.2418, 0.2832]], device='cuda:0')\n",
       "xyxy: tensor([[ 31.0373,  44.5269, 220.8039, 340.8405],\n",
       "        [332.9084,   0.0000, 487.6768, 181.2473]], device='cuda:0')\n",
       "xyxyn: tensor([[0.0485, 0.0696, 0.3450, 0.5326],\n",
       "        [0.5202, 0.0000, 0.7620, 0.2832]], device='cuda:0')"
      ]
     },
     "execution_count": 8,
     "metadata": {},
     "output_type": "execute_result"
    }
   ],
   "source": [
    "boxes = lst[0].boxes\n",
    "boxes"
   ]
  },
  {
   "cell_type": "code",
   "execution_count": 10,
   "id": "4eb4181d",
   "metadata": {},
   "outputs": [
    {
     "data": {
      "text/plain": [
       "tensor([[ 31.0373,  44.5269, 220.8039, 340.8405],\n",
       "        [332.9084,   0.0000, 487.6768, 181.2473]], device='cuda:0')"
      ]
     },
     "execution_count": 10,
     "metadata": {},
     "output_type": "execute_result"
    }
   ],
   "source": [
    "boxes.xyxy"
   ]
  },
  {
   "cell_type": "code",
   "execution_count": 11,
   "id": "e5a7c534",
   "metadata": {},
   "outputs": [
    {
     "data": {
      "text/plain": [
       "tensor([0., 0.], device='cuda:0')"
      ]
     },
     "execution_count": 11,
     "metadata": {},
     "output_type": "execute_result"
    }
   ],
   "source": [
    "boxes.cls"
   ]
  },
  {
   "cell_type": "code",
   "execution_count": 12,
   "id": "371bf55c",
   "metadata": {},
   "outputs": [
    {
     "data": {
      "text/plain": [
       "tensor([0.8388, 0.8277], device='cuda:0')"
      ]
     },
     "execution_count": 12,
     "metadata": {},
     "output_type": "execute_result"
    }
   ],
   "source": [
    "boxes.conf"
   ]
  },
  {
   "cell_type": "code",
   "execution_count": 19,
   "id": "81ed9dfe",
   "metadata": {},
   "outputs": [
    {
     "data": {
      "text/plain": [
       "(640, 640)"
      ]
     },
     "execution_count": 19,
     "metadata": {},
     "output_type": "execute_result"
    }
   ],
   "source": [
    "boxes.orig_shape"
   ]
  },
  {
   "cell_type": "code",
   "execution_count": 13,
   "id": "3a379b05",
   "metadata": {},
   "outputs": [
    {
     "name": "stdout",
     "output_type": "stream",
     "text": [
      "tensor([[ 1,  2,  3,  4],\n",
      "        [ 9, 10, 11, 12],\n",
      "        [13, 14, 15, 16]])\n"
     ]
    }
   ],
   "source": [
    "import torch\n",
    "\n",
    "# Sample data (replace these tensors with your actual data)\n",
    "confidences = torch.tensor([0.6, 0.4, 0.7, 0.8, 0.5])  # n x 1 tensor\n",
    "bounding_boxes = torch.tensor([[1, 2, 3, 4], [5, 6, 7, 8], [9, 10, 11, 12], [13, 14, 15, 16], [17, 18, 19, 20]])  # n x 4 tensor\n",
    "\n",
    "# Filter boxes based on confidence threshold (e.g., 0.5)\n",
    "confidence_threshold = 0.5\n",
    "filtered_indices = (confidences > confidence_threshold).nonzero().squeeze()\n",
    "\n",
    "# Use the filtered indices to select bounding boxes\n",
    "filtered_boxes = bounding_boxes[filtered_indices]\n",
    "\n",
    "# Print the filtered boxes\n",
    "print(filtered_boxes)\n"
   ]
  },
  {
   "cell_type": "code",
   "execution_count": 17,
   "id": "3f87a79c",
   "metadata": {},
   "outputs": [
    {
     "name": "stdout",
     "output_type": "stream",
     "text": [
      "tensor([[ 1,  2,  3,  4],\n",
      "        [ 9, 10, 11, 12],\n",
      "        [13, 14, 15, 16]])\n"
     ]
    }
   ],
   "source": [
    "import torch\n",
    "\n",
    "# Sample data (replace these tensors with your actual data)\n",
    "confidences = torch.tensor([0.6, 0.4, 0.7, 0.8, 0.5])  # n x 1 tensor\n",
    "bounding_boxes = torch.tensor([[1, 2, 3, 4], [5, 6, 7, 8], [9, 10, 11, 12], [13, 14, 15, 16], [17, 18, 19, 20]])  # n x 4 tensor\n",
    "\n",
    "# Define a confidence threshold (e.g., 0.5)\n",
    "confidence_threshold = 0.5\n",
    "\n",
    "# Filter boxes based on confidence threshold\n",
    "filtered_boxes = bounding_boxes[confidences > confidence_threshold]\n",
    "\n",
    "# Print the filtered boxes\n",
    "print(filtered_boxes)\n"
   ]
  },
  {
   "cell_type": "code",
   "execution_count": null,
   "id": "1514fb4e",
   "metadata": {},
   "outputs": [],
   "source": []
  },
  {
   "cell_type": "code",
   "execution_count": 16,
   "id": "4bc43f4f",
   "metadata": {},
   "outputs": [
    {
     "data": {
      "text/plain": [
       "tensor([0, 2, 3])"
      ]
     },
     "execution_count": 16,
     "metadata": {},
     "output_type": "execute_result"
    }
   ],
   "source": [
    "(confidences > confidence_threshold).nonzero().squeeze()"
   ]
  },
  {
   "cell_type": "code",
   "execution_count": 18,
   "id": "0ebf0184",
   "metadata": {},
   "outputs": [
    {
     "name": "stderr",
     "output_type": "stream",
     "text": [
      "WARNING  'Boxes.boxes' is deprecated. Use 'Boxes.data' instead.\n"
     ]
    },
    {
     "data": {
      "text/plain": [
       "ultralytics.engine.results.Boxes object with attributes:\n",
       "\n",
       "boxes: tensor([[1.5846e+02, 6.1584e-02, 3.2676e+02, 2.2193e+02, 8.2209e-01, 0.0000e+00]], device='cuda:0')\n",
       "cls: tensor([0.], device='cuda:0')\n",
       "conf: tensor([0.8221], device='cuda:0')\n",
       "data: tensor([[1.5846e+02, 6.1584e-02, 3.2676e+02, 2.2193e+02, 8.2209e-01, 0.0000e+00]], device='cuda:0')\n",
       "id: None\n",
       "is_track: False\n",
       "orig_shape: (640, 640)\n",
       "shape: torch.Size([1, 6])\n",
       "xywh: tensor([[242.6108, 110.9946, 168.2961, 221.8661]], device='cuda:0')\n",
       "xywhn: tensor([[0.3791, 0.1734, 0.2630, 0.3467]], device='cuda:0')\n",
       "xyxy: tensor([[1.5846e+02, 6.1584e-02, 3.2676e+02, 2.2193e+02]], device='cuda:0')\n",
       "xyxyn: tensor([[2.4760e-01, 9.6226e-05, 5.1056e-01, 3.4676e-01]], device='cuda:0')"
      ]
     },
     "execution_count": 18,
     "metadata": {},
     "output_type": "execute_result"
    }
   ],
   "source": [
    "box = boxes[0]\n",
    "box"
   ]
  },
  {
   "cell_type": "code",
   "execution_count": 9,
   "id": "7413cf19",
   "metadata": {},
   "outputs": [
    {
     "ename": "NameError",
     "evalue": "name 'box' is not defined",
     "output_type": "error",
     "traceback": [
      "\u001b[1;31m---------------------------------------------------------------------------\u001b[0m",
      "\u001b[1;31mNameError\u001b[0m                                 Traceback (most recent call last)",
      "Cell \u001b[1;32mIn[9], line 1\u001b[0m\n\u001b[1;32m----> 1\u001b[0m \u001b[43mbox\u001b[49m\u001b[38;5;241m.\u001b[39mxyxy[\u001b[38;5;241m0\u001b[39m]\n",
      "\u001b[1;31mNameError\u001b[0m: name 'box' is not defined"
     ]
    }
   ],
   "source": [
    "box.xyxy[0]"
   ]
  },
  {
   "cell_type": "code",
   "execution_count": 9,
   "id": "04bd320e",
   "metadata": {},
   "outputs": [],
   "source": [
    "box_lst = []\n",
    "for box in boxes:\n",
    "    box_lst.append(box)"
   ]
  },
  {
   "cell_type": "code",
   "execution_count": 10,
   "id": "b1ad470b",
   "metadata": {},
   "outputs": [
    {
     "name": "stderr",
     "output_type": "stream",
     "text": [
      "WARNING  'Boxes.boxes' is deprecated. Use 'Boxes.data' instead.\n"
     ]
    },
    {
     "data": {
      "text/plain": [
       "[ultralytics.engine.results.Boxes object with attributes:\n",
       " \n",
       " boxes: tensor([[1.5846e+02, 6.1584e-02, 3.2676e+02, 2.2193e+02, 8.2209e-01, 0.0000e+00]], device='cuda:0')\n",
       " cls: tensor([0.], device='cuda:0')\n",
       " conf: tensor([0.8221], device='cuda:0')\n",
       " data: tensor([[1.5846e+02, 6.1584e-02, 3.2676e+02, 2.2193e+02, 8.2209e-01, 0.0000e+00]], device='cuda:0')\n",
       " id: None\n",
       " is_track: False\n",
       " orig_shape: (640, 640)\n",
       " shape: torch.Size([1, 6])\n",
       " xywh: tensor([[242.6108, 110.9946, 168.2961, 221.8661]], device='cuda:0')\n",
       " xywhn: tensor([[0.3791, 0.1734, 0.2630, 0.3467]], device='cuda:0')\n",
       " xyxy: tensor([[1.5846e+02, 6.1584e-02, 3.2676e+02, 2.2193e+02]], device='cuda:0')\n",
       " xyxyn: tensor([[2.4760e-01, 9.6226e-05, 5.1056e-01, 3.4676e-01]], device='cuda:0')]"
      ]
     },
     "execution_count": 10,
     "metadata": {},
     "output_type": "execute_result"
    }
   ],
   "source": [
    "box_lst"
   ]
  },
  {
   "cell_type": "code",
   "execution_count": 6,
   "id": "90abe4cf",
   "metadata": {},
   "outputs": [],
   "source": [
    "store = zip([1,2,3], [4,5,6])"
   ]
  },
  {
   "cell_type": "code",
   "execution_count": 7,
   "id": "932dc1c3",
   "metadata": {},
   "outputs": [
    {
     "name": "stdout",
     "output_type": "stream",
     "text": [
      "(1, 4)\n",
      "(2, 5)\n",
      "(3, 6)\n"
     ]
    }
   ],
   "source": [
    "for elem in store:\n",
    "    print(elem)"
   ]
  },
  {
   "cell_type": "code",
   "execution_count": 13,
   "id": "2096ae84",
   "metadata": {},
   "outputs": [
    {
     "data": {
      "text/plain": [
       "'2023-10-21'"
      ]
     },
     "execution_count": 13,
     "metadata": {},
     "output_type": "execute_result"
    }
   ],
   "source": [
    "str(datetime.now().date())"
   ]
  },
  {
   "cell_type": "code",
   "execution_count": 40,
   "id": "aff40983",
   "metadata": {},
   "outputs": [],
   "source": [
    "arr = range(20000000)"
   ]
  },
  {
   "cell_type": "code",
   "execution_count": 41,
   "id": "8cf0cdf8",
   "metadata": {},
   "outputs": [
    {
     "name": "stdout",
     "output_type": "stream",
     "text": [
      "0.7\n"
     ]
    }
   ],
   "source": [
    "start = time.time()\n",
    "for elem in arr:\n",
    "    a = 1\n",
    "end = time.time()\n",
    "print(round(end-start, 2))"
   ]
  },
  {
   "cell_type": "code",
   "execution_count": 42,
   "id": "f115ad45",
   "metadata": {},
   "outputs": [
    {
     "name": "stdout",
     "output_type": "stream",
     "text": [
      "2.43\n"
     ]
    }
   ],
   "source": [
    "start = time.time()\n",
    "for i in arr:\n",
    "    elem = arr[i]\n",
    "    a = 1\n",
    "end = time.time()\n",
    "print(round(end-start, 2))"
   ]
  }
 ],
 "metadata": {
  "kernelspec": {
   "display_name": "Python 3 (ipykernel)",
   "language": "python",
   "name": "python3"
  },
  "language_info": {
   "codemirror_mode": {
    "name": "ipython",
    "version": 3
   },
   "file_extension": ".py",
   "mimetype": "text/x-python",
   "name": "python",
   "nbconvert_exporter": "python",
   "pygments_lexer": "ipython3",
   "version": "3.10.0"
  }
 },
 "nbformat": 4,
 "nbformat_minor": 5
}
